{
 "cells": [
  {
   "cell_type": "code",
   "execution_count": null,
   "metadata": {
    "collapsed": false
   },
   "outputs": [],
   "source": [
    "#!/usr/bin/python\n",
    "import sys\n",
    "import plikKrzysia\n",
    "import plikAgi\n",
    "import numpy as np\n",
    "from matplotlib import pyplot as plt\n",
    "from skimage.color import rgb2gray\n",
    "from skimage import data, io\n",
    "import dicom, dicom.UID\n",
    "from dicom.dataelem import DataElement\n",
    "from dicom.dataset import Dataset, FileDataset\n",
    "import numpy as np\n",
    "import datetime, time\n",
    "import os.path\n",
    "from sklearn.metrics import mean_squared_error\n",
    "\n",
    "\n",
    "class Result:\n",
    "    def __init__(self, picture=[]):\n",
    "        self.raw = picture\n",
    "        self.improved = picture\n",
    "\n",
    "\n",
    "class Picture_struct:\n",
    "    'Structure of our picture'\n",
    "    oryginal = []\n",
    "    sinogram = []\n",
    "    filtered = []\n",
    "    reconstructed = []\n",
    "    result = Result()\n",
    "\n",
    "    def __init__(self, picture_):\n",
    "        self.oryginal = picture_\n",
    "\n",
    "    def picture2sinogram(self):\n",
    "        # Should return array [n][n] which is result of the function  .. from  plikKrzysia\n",
    "        # lines n x n x 4 array of lines\n",
    "        self.sinogram, self.lines = plikKrzysia.picture2sinogram(self.oryginal, width=90, detector_amount=90, alpha=4)\n",
    "        fig, plots = plt.subplots(1, 2)\n",
    "        plots[0].imshow(self.oryginal, cmap='gray')\n",
    "        plots[1].imshow(self.sinogram, cmap='gray')\n",
    "        plt.show()\n",
    "        print(\"Oryginalny obraz:\")\n",
    "        print(np.shape(self.oryginal))\n",
    "        print(\"Stenogram:\")\n",
    "        print(np.shape(self.sinogram))\n",
    "\n",
    "        return self.sinogram\n",
    "\n",
    "    def sinogram2picture(self):\n",
    "        self.reconstructed = plikAgi.sinogram2picture(self.oryginal, self.sinogram, self.lines)\n",
    "        fig, plots = plt.subplots(1, 2)\n",
    "        print(\"Końcowy obraz bez filtracji sinogramu\")\n",
    "        plots[0].imshow(self.oryginal, cmap='gray')\n",
    "        plots[1].imshow(self.reconstructed, cmap='gray')\n",
    "        plt.show()\n",
    "        #self.result.raw = plikAgi.sinogram2picture(self.sinogram)\n",
    "        #self.result.improved = plikAgi.sinogram2picture(self.filtered)\n",
    "        return self.result\n",
    "\n",
    "    def filtering(self):\n",
    "        self.filtered = plikAgi.filtered_sinogram2picture(self.oryginal, self.sinogram, self.lines)\n",
    "        fig, plots = plt.subplots(1, 2)\n",
    "        print(\"Końcowy obraz z filtracją sinogramu\")\n",
    "        plots[0].imshow(self.oryginal, cmap='gray')\n",
    "        plots[1].imshow(self.filtered, cmap='gray')\n",
    "        plt.show()\n",
    "        return self.filtered\n",
    "    \n",
    "def mse(picture):\n",
    "    print(\"Błąd średniokwadratowy bez filtrowania:\")\n",
    "    print(mean_squared_error(picture.oryginal, picture.reconstructed))\n",
    "    print(\"Błąd średniokwadratowy z filtrowaniem:\")\n",
    "    print(mean_squared_error(picture.oryginal, picture.filtered))\n",
    "\n",
    "\n",
    "def tomograf(picture_):\n",
    "    picture = Picture_struct(picture_)\n",
    "    picture.picture2sinogram()\n",
    "    #TODO\n",
    "    #    picture.filtered()\n",
    "    picture.sinogram2picture()\n",
    "    picture.filtering()\n",
    "    return picture\n",
    "\n",
    "if __name__ == \"__main__\":\n",
    "    # if (len(sys.argv) != 2):\n",
    "    #    print(\"This program requires a bitmap picture as an argument\")\n",
    "    # tomograf(sys.argv[1])\n",
    "\n",
    "    #example1\n",
    "    #picture = data.binary_blobs(length=80, blob_size_fraction=0.1, n_dim=2, volume_fraction=0.5, seed=None)\n",
    "    picture = np.zeros([200,200])\n",
    "    picture[24:174, 24:174] = rgb2gray(io.imread(\"tomograf-zdjecia/04.png\"))\n",
    "    \n",
    "    #Example2\n",
    "    #picture = data.moon()\n",
    "    pic_object = tomograf(picture)\n",
    "    mse(pic_object)"
   ]
  },
  {
   "cell_type": "code",
   "execution_count": null,
   "metadata": {
    "collapsed": false
   },
   "outputs": [],
   "source": [
    "\n",
    "from skimage import img_as_float, img_as_ubyte, filters\n",
    "#new = filters.gaussian_filter(pic_object.filtered, sigma=2)\n",
    "import skimage.morphology as mp\n",
    "new = mp.dilation(mp.erosion(pic_object.filtered))\n",
    "fig, plots = plt.subplots(1, 2)\n",
    "plots[0].imshow(new, cmap='gray')\n",
    "plt.show()  \n"
   ]
  },
  {
   "cell_type": "code",
   "execution_count": null,
   "metadata": {
    "collapsed": false
   },
   "outputs": [],
   "source": [
    "def normalizing(img, minval, maxval):\n",
    "    norm = (img - minval) / (maxval - minval)\n",
    "    norm[norm[:,:] > 1] = 1\n",
    "    norm[norm[:,:] < 0] = 0\n",
    "    return norm"
   ]
  },
  {
   "cell_type": "code",
   "execution_count": null,
   "metadata": {
    "collapsed": false
   },
   "outputs": [],
   "source": [
    "perc = 0.2\n",
    "MIN = np.percentile(pic_object.filtered, perc)\n",
    "MAX = np.percentile(pic_object.filtered, 100-perc)\n",
    "new = normalizing(pic_object.filtered, MIN, MAX)\n",
    "fig, plots = plt.subplots(1, 2)\n",
    "plots[0].imshow(new, cmap='gray')\n",
    "plt.show()  "
   ]
  },
  {
   "cell_type": "code",
   "execution_count": null,
   "metadata": {
    "collapsed": true
   },
   "outputs": [],
   "source": []
  }
 ],
 "metadata": {
  "kernelspec": {
   "display_name": "Python 3",
   "language": "python",
   "name": "python3"
  },
  "language_info": {
   "codemirror_mode": {
    "name": "ipython",
    "version": 3
   },
   "file_extension": ".py",
   "mimetype": "text/x-python",
   "name": "python",
   "nbconvert_exporter": "python",
   "pygments_lexer": "ipython3",
   "version": "3.5.0"
  }
 },
 "nbformat": 4,
 "nbformat_minor": 1
}
